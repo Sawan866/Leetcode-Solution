{
  "nbformat": 4,
  "nbformat_minor": 0,
  "metadata": {
    "colab": {
      "name": "1 Two Sum.ipynb",
      "provenance": [],
      "authorship_tag": "ABX9TyOhm9vAGaPI2Jo6JWnsKbvY",
      "include_colab_link": true
    },
    "kernelspec": {
      "name": "python3",
      "display_name": "Python 3"
    },
    "language_info": {
      "name": "python"
    }
  },
  "cells": [
    {
      "cell_type": "markdown",
      "metadata": {
        "id": "view-in-github",
        "colab_type": "text"
      },
      "source": [
        "<a href=\"https://colab.research.google.com/github/Sawan866/Leetcode-Solution/blob/main/1_Two_Sum.ipynb\" target=\"_parent\"><img src=\"https://colab.research.google.com/assets/colab-badge.svg\" alt=\"Open In Colab\"/></a>"
      ]
    },
    {
      "cell_type": "markdown",
      "source": [
        "**Given an array of integers and an integer target, return indices of two numbers such that they add up to target**\n",
        "\n",
        "You may assume that each input would have excatly one solution,and you may not use the same element twice."
      ],
      "metadata": {
        "id": "gmhInlVKgbHU"
      }
    },
    {
      "cell_type": "code",
      "execution_count": 4,
      "metadata": {
        "id": "COVOeoPLftVd"
      },
      "outputs": [],
      "source": [
        "class Solution:\n",
        "  def twosum(num,target):\n",
        "    prevMap ={}\n",
        "\n",
        "    for i,n in enumerate (num):\n",
        "      diff = target - n\n",
        "      if diff in prevMap:\n",
        "        return [prevMap[diff],i]\n",
        "      prevMap[n] = i\n"
      ]
    },
    {
      "cell_type": "code",
      "source": [
        "num =[1,2,4,6,8,0,6,9]\n",
        "target = 11"
      ],
      "metadata": {
        "id": "lhS6ndlxiXe5"
      },
      "execution_count": 2,
      "outputs": []
    },
    {
      "cell_type": "code",
      "source": [
        "Solution.twosum(num,target)"
      ],
      "metadata": {
        "colab": {
          "base_uri": "https://localhost:8080/"
        },
        "id": "JVfeBykkinns",
        "outputId": "464cf23f-2993-4790-cc97-4ad404aee936"
      },
      "execution_count": 5,
      "outputs": [
        {
          "output_type": "execute_result",
          "data": {
            "text/plain": [
              "[1, 7]"
            ]
          },
          "metadata": {},
          "execution_count": 5
        }
      ]
    },
    {
      "cell_type": "code",
      "source": [],
      "metadata": {
        "id": "g8B1zeNbisbe"
      },
      "execution_count": null,
      "outputs": []
    }
  ]
}