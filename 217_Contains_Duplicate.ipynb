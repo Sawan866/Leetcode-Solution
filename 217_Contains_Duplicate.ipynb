{
  "nbformat": 4,
  "nbformat_minor": 0,
  "metadata": {
    "colab": {
      "name": "217 Contains Duplicate.ipynb",
      "provenance": [],
      "collapsed_sections": [],
      "authorship_tag": "ABX9TyP+UttPoP90LAoMMnelTraj",
      "include_colab_link": true
    },
    "kernelspec": {
      "name": "python3",
      "display_name": "Python 3"
    },
    "language_info": {
      "name": "python"
    }
  },
  "cells": [
    {
      "cell_type": "markdown",
      "metadata": {
        "id": "view-in-github",
        "colab_type": "text"
      },
      "source": [
        "<a href=\"https://colab.research.google.com/github/Sawan866/Leetcode-Solution/blob/main/217_Contains_Duplicate.ipynb\" target=\"_parent\"><img src=\"https://colab.research.google.com/assets/colab-badge.svg\" alt=\"Open In Colab\"/></a>"
      ]
    },
    {
      "cell_type": "markdown",
      "source": [
        "**Given an integer array nums, return if any value appears atleast twice in the array, and return false if every element is distinct**"
      ],
      "metadata": {
        "id": "Yegl7hpP5cSC"
      }
    },
    {
      "cell_type": "code",
      "source": [
        "class Solution:\n",
        "  def containsDuplicate(nums):\n",
        "    hashset = set()\n",
        "\n",
        "    for n in nums:\n",
        "      if n in hashset:\n",
        "        return True\n",
        "\n",
        "      hashset.add(n)\n",
        "    return False\n",
        "    \n"
      ],
      "metadata": {
        "id": "zS35E3WC6K1f"
      },
      "execution_count": null,
      "outputs": []
    },
    {
      "cell_type": "code",
      "source": [
        "num = [1,2,3,4,5,1]\n",
        "\n",
        "Solution.containsDuplicate(num)"
      ],
      "metadata": {
        "colab": {
          "base_uri": "https://localhost:8080/"
        },
        "id": "lt4SL1Nt62kz",
        "outputId": "4dc21e39-ca28-44d4-fa49-d9a36280c464"
      },
      "execution_count": null,
      "outputs": [
        {
          "output_type": "execute_result",
          "data": {
            "text/plain": [
              "True"
            ]
          },
          "metadata": {},
          "execution_count": 4
        }
      ]
    },
    {
      "cell_type": "code",
      "source": [
        "b = [1,2,34,6]\n",
        "Solution.containsDuplicate(b)"
      ],
      "metadata": {
        "colab": {
          "base_uri": "https://localhost:8080/"
        },
        "id": "bg4lsI5u8Mth",
        "outputId": "eeffa1cc-2fa7-413f-db6b-1c0def8e5fa2"
      },
      "execution_count": null,
      "outputs": [
        {
          "output_type": "execute_result",
          "data": {
            "text/plain": [
              "False"
            ]
          },
          "metadata": {},
          "execution_count": 5
        }
      ]
    },
    {
      "cell_type": "code",
      "source": [],
      "metadata": {
        "id": "Jqq4foCB84Fz"
      },
      "execution_count": null,
      "outputs": []
    }
  ]
}