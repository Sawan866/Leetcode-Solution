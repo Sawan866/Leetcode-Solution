{
  "nbformat": 4,
  "nbformat_minor": 0,
  "metadata": {
    "colab": {
      "name": "242. Valid Anagram.ipynb",
      "provenance": [],
      "authorship_tag": "ABX9TyOhsM3KMyDujcDTiW/FHq9d",
      "include_colab_link": true
    },
    "kernelspec": {
      "name": "python3",
      "display_name": "Python 3"
    },
    "language_info": {
      "name": "python"
    }
  },
  "cells": [
    {
      "cell_type": "markdown",
      "metadata": {
        "id": "view-in-github",
        "colab_type": "text"
      },
      "source": [
        "<a href=\"https://colab.research.google.com/github/Sawan866/Leetcode-Solution/blob/main/242_Valid_Anagram.ipynb\" target=\"_parent\"><img src=\"https://colab.research.google.com/assets/colab-badge.svg\" alt=\"Open In Colab\"/></a>"
      ]
    },
    {
      "cell_type": "markdown",
      "source": [
        "**Given two strings s and t, return True if t is anagram of s and False otherwise**\n",
        "\n",
        "An anagram is a word or phrase formed by rearrainging the letters of a different word or phrase, typically using all the original letters exactly once."
      ],
      "metadata": {
        "id": "p1wioiV_9mZA"
      }
    },
    {
      "cell_type": "markdown",
      "source": [
        "Answer: There are 3 solutions"
      ],
      "metadata": {
        "id": "_6I857yo-ZnE"
      }
    },
    {
      "cell_type": "code",
      "execution_count": 1,
      "metadata": {
        "id": "bTihBqGN9gTd"
      },
      "outputs": [],
      "source": [
        "# Sorting\n",
        "\n",
        "def Anagram_sorting(s,t):\n",
        "  return sorted(s) == sorted(t)\n",
        "\n"
      ]
    },
    {
      "cell_type": "code",
      "source": [
        "from typing_extensions import Counter\n",
        "# Counter\n",
        "\n",
        "def Anagram_counter(s,t):\n",
        "  return Counter(s) == Counter(t)"
      ],
      "metadata": {
        "id": "dFd3Fgu6_ESp"
      },
      "execution_count": 2,
      "outputs": []
    },
    {
      "cell_type": "code",
      "source": [
        "# Using Hashmap\n",
        "\n",
        "def isAnagram(s,t):\n",
        "  if len(s) != len(t):\n",
        "    return False\n",
        "  \n",
        "  countS, countT = {},{}\n",
        "\n",
        "  for i in range(len(s)):\n",
        "    countS[s[i]] = 1 + countS.get(s[i],0)\n",
        "    countT[t[i]] = 1 + countT.get(t[i],0)\n",
        "  \n",
        "  for n in countS:\n",
        "    if countS[n] != countT.get(n,0):\n",
        "      return False\n",
        "  return True\n"
      ],
      "metadata": {
        "id": "tCYuyGht_j2V"
      },
      "execution_count": 3,
      "outputs": []
    },
    {
      "cell_type": "code",
      "source": [
        "s = 'bollywood'\n",
        "t = 'woodyboll'\n",
        "\n",
        "isAnagram(s,t)"
      ],
      "metadata": {
        "colab": {
          "base_uri": "https://localhost:8080/"
        },
        "id": "l-E-pvJNcxJf",
        "outputId": "262b30b2-641f-4e33-943f-847137e6d46d"
      },
      "execution_count": 5,
      "outputs": [
        {
          "output_type": "execute_result",
          "data": {
            "text/plain": [
              "True"
            ]
          },
          "metadata": {},
          "execution_count": 5
        }
      ]
    },
    {
      "cell_type": "code",
      "source": [
        "Anagram_counter(s,t)"
      ],
      "metadata": {
        "colab": {
          "base_uri": "https://localhost:8080/"
        },
        "id": "460D8VnSdHYN",
        "outputId": "4a689f8d-35c7-484e-a5d2-bd5fb0ae0e18"
      },
      "execution_count": 6,
      "outputs": [
        {
          "output_type": "execute_result",
          "data": {
            "text/plain": [
              "True"
            ]
          },
          "metadata": {},
          "execution_count": 6
        }
      ]
    },
    {
      "cell_type": "code",
      "source": [
        "Anagram_sorting(s,t)"
      ],
      "metadata": {
        "colab": {
          "base_uri": "https://localhost:8080/"
        },
        "id": "cbSPQp_6eTwd",
        "outputId": "aed64958-6673-42bb-c9c9-b98c70856b12"
      },
      "execution_count": 7,
      "outputs": [
        {
          "output_type": "execute_result",
          "data": {
            "text/plain": [
              "True"
            ]
          },
          "metadata": {},
          "execution_count": 7
        }
      ]
    },
    {
      "cell_type": "code",
      "source": [],
      "metadata": {
        "id": "BR2WdnCJeWz_"
      },
      "execution_count": null,
      "outputs": []
    }
  ]
}